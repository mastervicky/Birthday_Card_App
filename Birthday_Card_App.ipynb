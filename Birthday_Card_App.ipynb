{
 "cells": [
  {
   "cell_type": "markdown",
   "id": "c563468b",
   "metadata": {},
   "source": [
    "# BIRTHDAY CARD GENERATOR"
   ]
  },
  {
   "cell_type": "markdown",
   "id": "2170ac73",
   "metadata": {},
   "source": [
    "STEP 1: Create a growth Graph"
   ]
  },
  {
   "cell_type": "code",
   "execution_count": 12,
   "id": "f6e747e6",
   "metadata": {},
   "outputs": [
    {
     "name": "stdout",
     "output_type": "stream",
     "text": [
      "Requirement already satisfied: matplotlib in c:\\users\\dell\\desktop\\my code works\\.venv\\lib\\site-packages (3.10.3)\n",
      "Requirement already satisfied: contourpy>=1.0.1 in c:\\users\\dell\\desktop\\my code works\\.venv\\lib\\site-packages (from matplotlib) (1.3.2)\n",
      "Requirement already satisfied: cycler>=0.10 in c:\\users\\dell\\desktop\\my code works\\.venv\\lib\\site-packages (from matplotlib) (0.12.1)\n",
      "Requirement already satisfied: fonttools>=4.22.0 in c:\\users\\dell\\desktop\\my code works\\.venv\\lib\\site-packages (from matplotlib) (4.59.0)\n",
      "Requirement already satisfied: kiwisolver>=1.3.1 in c:\\users\\dell\\desktop\\my code works\\.venv\\lib\\site-packages (from matplotlib) (1.4.8)\n",
      "Requirement already satisfied: numpy>=1.23 in c:\\users\\dell\\desktop\\my code works\\.venv\\lib\\site-packages (from matplotlib) (2.3.1)\n",
      "Requirement already satisfied: packaging>=20.0 in c:\\users\\dell\\desktop\\my code works\\.venv\\lib\\site-packages (from matplotlib) (25.0)\n",
      "Requirement already satisfied: pillow>=8 in c:\\users\\dell\\desktop\\my code works\\.venv\\lib\\site-packages (from matplotlib) (11.3.0)\n",
      "Requirement already satisfied: pyparsing>=2.3.1 in c:\\users\\dell\\desktop\\my code works\\.venv\\lib\\site-packages (from matplotlib) (3.2.3)\n",
      "Requirement already satisfied: python-dateutil>=2.7 in c:\\users\\dell\\desktop\\my code works\\.venv\\lib\\site-packages (from matplotlib) (2.9.0.post0)\n",
      "Requirement already satisfied: six>=1.5 in c:\\users\\dell\\desktop\\my code works\\.venv\\lib\\site-packages (from python-dateutil>=2.7->matplotlib) (1.17.0)\n",
      "Note: you may need to restart the kernel to use updated packages.\n"
     ]
    }
   ],
   "source": [
    "%pip install matplotlib\n",
    "\n",
    "import streamlit as st\n",
    "from PIL import Image, ImageDraw, ImageFont\n",
    "import matplotlib.pyplot as plt\n",
    "from datetime import date\n",
    "import io\n",
    "\n",
    "# function to create a growth graph based on the birth year\n",
    "def create_growth_graph(birth_year):\n",
    "    current_year = date.today().year\n",
    "    year = list(range(birth_year, current_year +1))\n",
    "    ages = [year -birth_year for year in year]\n",
    "\n",
    "    fig, ax = plt.subplots(figsize = (4, 2))\n",
    "    ax.plot( year, ages, maker = '0', color = 'blue')\n",
    "    ax.set_title('Growth Chart')\n",
    "    ax.set_xlabel('Year')\n",
    "    ax.set_ylabel('Age')\n",
    "    ax.grid(True)\n",
    "\n",
    "    buf = io.BytesIO()\n",
    "    plt.tight_layout()\n",
    "    fig.savefig(buf, format = 'png')\n",
    "    buf.seek(o)\n",
    "    return Image.open(buf)"
   ]
  },
  {
   "cell_type": "markdown",
   "id": "e9f01a92",
   "metadata": {},
   "source": [
    "STEP 2: Create a Birthday Card"
   ]
  },
  {
   "cell_type": "code",
   "execution_count": 14,
   "id": "d84d1e08",
   "metadata": {},
   "outputs": [],
   "source": [
    "# function to create a birthday card\n",
    "def create_card(name, birth_year, upload_photo=None):\n",
    "    card = Image.new(\"RGB\", (800, 500), \"lightyellow\")\n",
    "    draw = ImageDraw.Draw(card)\n",
    "# Font adjustment if needed\n",
    "    try:\n",
    "        font_title = ImageFont.truetype(\"arial.ttf\", 40)\n",
    "        font_msg = ImageFont.truetype(\"arial.ttf\", 20)\n",
    "    except:\n",
    "        font_title = font_msg = None\n",
    "\n",
    "    draw.text((50, 50), f\"Happy Birthday {name}!\", fill=\"darkred\", font=font_title)\n",
    "    draw.text((50, 120), \"Wishing you many more years of joy, good health and success!\", fill=\"black\", font=font_msg)\n",
    "\n",
    "    if upload_photo:\n",
    "        photo = Image.open(uploaded_photo).resize((300, 300))\n",
    "        card.paste(photo, (20, 150))\n",
    "\n",
    "        chart = create_growth_graph(birth_year).resize((400, 200))\n",
    "        card.paste(chart, (350, 150))\n",
    "\n",
    "        return card\n"
   ]
  },
  {
   "cell_type": "markdown",
   "id": "e5e9c195",
   "metadata": {},
   "source": [
    "STEP 3: StreamLit App"
   ]
  },
  {
   "cell_type": "code",
   "execution_count": null,
   "id": "15d42141",
   "metadata": {},
   "outputs": [
    {
     "name": "stderr",
     "output_type": "stream",
     "text": [
      "2025-07-26 02:26:53.883 WARNING streamlit.runtime.scriptrunner_utils.script_run_context: Thread 'MainThread': missing ScriptRunContext! This warning can be ignored when running in bare mode.\n",
      "2025-07-26 02:26:54.199 \n",
      "  \u001b[33m\u001b[1mWarning:\u001b[0m to view this Streamlit app on a browser, run it with the following\n",
      "  command:\n",
      "\n",
      "    streamlit run c:\\Users\\DELL\\Desktop\\MY Code works\\.venv\\Lib\\site-packages\\ipykernel_launcher.py [ARGUMENTS]\n",
      "2025-07-26 02:26:54.201 Thread 'MainThread': missing ScriptRunContext! This warning can be ignored when running in bare mode.\n",
      "2025-07-26 02:26:54.203 Thread 'MainThread': missing ScriptRunContext! This warning can be ignored when running in bare mode.\n",
      "2025-07-26 02:26:54.204 Thread 'MainThread': missing ScriptRunContext! This warning can be ignored when running in bare mode.\n",
      "2025-07-26 02:26:54.205 Thread 'MainThread': missing ScriptRunContext! This warning can be ignored when running in bare mode.\n",
      "2025-07-26 02:26:54.206 Thread 'MainThread': missing ScriptRunContext! This warning can be ignored when running in bare mode.\n",
      "2025-07-26 02:26:54.206 Thread 'MainThread': missing ScriptRunContext! This warning can be ignored when running in bare mode.\n",
      "2025-07-26 02:26:54.207 Session state does not function when running a script without `streamlit run`\n",
      "2025-07-26 02:26:54.208 Thread 'MainThread': missing ScriptRunContext! This warning can be ignored when running in bare mode.\n",
      "2025-07-26 02:26:54.208 Thread 'MainThread': missing ScriptRunContext! This warning can be ignored when running in bare mode.\n",
      "2025-07-26 02:26:54.209 Thread 'MainThread': missing ScriptRunContext! This warning can be ignored when running in bare mode.\n",
      "2025-07-26 02:26:54.210 Thread 'MainThread': missing ScriptRunContext! This warning can be ignored when running in bare mode.\n",
      "2025-07-26 02:26:54.211 Thread 'MainThread': missing ScriptRunContext! This warning can be ignored when running in bare mode.\n",
      "2025-07-26 02:26:54.211 Thread 'MainThread': missing ScriptRunContext! This warning can be ignored when running in bare mode.\n",
      "2025-07-26 02:26:54.212 Thread 'MainThread': missing ScriptRunContext! This warning can be ignored when running in bare mode.\n",
      "2025-07-26 02:26:54.213 Thread 'MainThread': missing ScriptRunContext! This warning can be ignored when running in bare mode.\n",
      "2025-07-26 02:26:54.213 Thread 'MainThread': missing ScriptRunContext! This warning can be ignored when running in bare mode.\n",
      "2025-07-26 02:26:54.214 Thread 'MainThread': missing ScriptRunContext! This warning can be ignored when running in bare mode.\n",
      "2025-07-26 02:26:54.215 Thread 'MainThread': missing ScriptRunContext! This warning can be ignored when running in bare mode.\n",
      "2025-07-26 02:26:54.216 Thread 'MainThread': missing ScriptRunContext! This warning can be ignored when running in bare mode.\n",
      "2025-07-26 02:26:54.217 Thread 'MainThread': missing ScriptRunContext! This warning can be ignored when running in bare mode.\n",
      "2025-07-26 02:26:54.218 Thread 'MainThread': missing ScriptRunContext! This warning can be ignored when running in bare mode.\n",
      "2025-07-26 02:26:54.219 Thread 'MainThread': missing ScriptRunContext! This warning can be ignored when running in bare mode.\n",
      "2025-07-26 02:26:54.220 Thread 'MainThread': missing ScriptRunContext! This warning can be ignored when running in bare mode.\n",
      "2025-07-26 02:26:54.220 Thread 'MainThread': missing ScriptRunContext! This warning can be ignored when running in bare mode.\n",
      "2025-07-26 02:26:54.221 Thread 'MainThread': missing ScriptRunContext! This warning can be ignored when running in bare mode.\n",
      "2025-07-26 02:26:54.222 Thread 'MainThread': missing ScriptRunContext! This warning can be ignored when running in bare mode.\n",
      "2025-07-26 02:26:54.224 Thread 'MainThread': missing ScriptRunContext! This warning can be ignored when running in bare mode.\n",
      "2025-07-26 02:26:54.226 Thread 'MainThread': missing ScriptRunContext! This warning can be ignored when running in bare mode.\n",
      "2025-07-26 02:26:54.227 Thread 'MainThread': missing ScriptRunContext! This warning can be ignored when running in bare mode.\n"
     ]
    }
   ],
   "source": [
    "# Streamlit Web UI\n",
    "st.title(\"🎉 Birthday Card Generator\")\n",
    "\n",
    "name = st.text_input(\"Enter your name\")\n",
    "birth_year = st.number_input(\"Enter your year of birth\", min_value=1900, max_value=date.today().year, value=2000)\n",
    "photo = st.file_uploader(\"Upload your photo (JPEG or PNG)\", type=[\"jpg\", \"jpeg\", \"png\"])\n",
    "\n",
    "if st.button(\"Generate Card\"):\n",
    "    if name and photo:\n",
    "        card = generate_card(name, birth_year, photo)\n",
    "        st.image(card, caption=\"Your Birthday Card\", use_column_width=True)\n",
    "\n",
    "        buf = io.BytesIO()\n",
    "        card.save(buf, format=\"PNG\")\n",
    "        st.download_button(\"📥 Download Card\", data=buf.getvalue(), file_name=f\"{name}_birthday_card.png\", mime=\"image/png\")\n",
    "    else:\n",
    "        st.warning(\"Please enter your name and upload a photo.\")"
   ]
  }
 ],
 "metadata": {
  "kernelspec": {
   "display_name": ".venv",
   "language": "python",
   "name": "python3"
  },
  "language_info": {
   "codemirror_mode": {
    "name": "ipython",
    "version": 3
   },
   "file_extension": ".py",
   "mimetype": "text/x-python",
   "name": "python",
   "nbconvert_exporter": "python",
   "pygments_lexer": "ipython3",
   "version": "3.13.5"
  }
 },
 "nbformat": 4,
 "nbformat_minor": 5
}
